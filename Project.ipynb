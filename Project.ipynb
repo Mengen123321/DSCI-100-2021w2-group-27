{
 "cells": [
  {
   "cell_type": "markdown",
   "id": "79c3347a-acee-4830-a6a7-f23e07fad591",
   "metadata": {},
   "source": [
    "Libraries:"
   ]
  },
  {
   "cell_type": "code",
   "execution_count": null,
   "id": "deb50e66-e4dc-4845-87fe-35f51b808378",
   "metadata": {},
   "outputs": [],
   "source": [
    "library(tidyverse)\n",
    "library(repr)\n",
    "library(tidymodels)"
   ]
  },
  {
   "cell_type": "markdown",
   "id": "dc0bf58a-b3e4-4576-af27-4a9b8c4015e1",
   "metadata": {},
   "source": [
    "We will first Wrangle the data by adding the columns names and write to modify the csv file"
   ]
  },
  {
   "cell_type": "code",
   "execution_count": null,
   "id": "40d613c9-79d7-4618-b808-35c555289416",
   "metadata": {},
   "outputs": [
    {
     "name": "stderr",
     "output_type": "stream",
     "text": [
      "\u001b[1mRows: \u001b[22m\u001b[34m17898\u001b[39m \u001b[1mColumns: \u001b[22m\u001b[34m9\u001b[39m\n",
      "\u001b[36m──\u001b[39m \u001b[1mColumn specification\u001b[22m \u001b[36m────────────────────────────────────────────────────────\u001b[39m\n",
      "\u001b[1mDelimiter:\u001b[22m \",\"\n",
      "\u001b[32mdbl\u001b[39m (9): X1, X2, X3, X4, X5, X6, X7, X8, X9\n",
      "\n",
      "\u001b[36mℹ\u001b[39m Use `spec()` to retrieve the full column specification for this data.\n",
      "\u001b[36mℹ\u001b[39m Specify the column types or set `show_col_types = FALSE` to quiet this message.\n"
     ]
    },
    {
     "data": {
      "text/html": [
       "<table class=\"dataframe\">\n",
       "<caption>A tibble: 6 × 9</caption>\n",
       "<thead>\n",
       "\t<tr><th scope=col>Mean_IP</th><th scope=col>Std_IP</th><th scope=col>Excess_kurtosis_IP</th><th scope=col>Skewness_IP</th><th scope=col>Mean_DM_SNR</th><th scope=col>Std_DM_SNR</th><th scope=col>Excess_kurtosis_DM_SNR</th><th scope=col>Skewness_DM_SNR</th><th scope=col>Class</th></tr>\n",
       "\t<tr><th scope=col>&lt;dbl&gt;</th><th scope=col>&lt;dbl&gt;</th><th scope=col>&lt;dbl&gt;</th><th scope=col>&lt;dbl&gt;</th><th scope=col>&lt;dbl&gt;</th><th scope=col>&lt;dbl&gt;</th><th scope=col>&lt;dbl&gt;</th><th scope=col>&lt;dbl&gt;</th><th scope=col>&lt;dbl&gt;</th></tr>\n",
       "</thead>\n",
       "<tbody>\n",
       "\t<tr><td>140.56250</td><td>55.68378</td><td>-0.23457141</td><td>-0.6996484</td><td>3.199833</td><td>19.11043</td><td> 7.975532</td><td> 74.24222</td><td>0</td></tr>\n",
       "\t<tr><td>102.50781</td><td>58.88243</td><td> 0.46531815</td><td>-0.5150879</td><td>1.677258</td><td>14.86015</td><td>10.576487</td><td>127.39358</td><td>0</td></tr>\n",
       "\t<tr><td>103.01562</td><td>39.34165</td><td> 0.32332837</td><td> 1.0511644</td><td>3.121237</td><td>21.74467</td><td> 7.735822</td><td> 63.17191</td><td>0</td></tr>\n",
       "\t<tr><td>136.75000</td><td>57.17845</td><td>-0.06841464</td><td>-0.6362384</td><td>3.642977</td><td>20.95928</td><td> 6.896499</td><td> 53.59366</td><td>0</td></tr>\n",
       "\t<tr><td> 88.72656</td><td>40.67223</td><td> 0.60086608</td><td> 1.1234917</td><td>1.178930</td><td>11.46872</td><td>14.269573</td><td>252.56731</td><td>0</td></tr>\n",
       "\t<tr><td> 93.57031</td><td>46.69811</td><td> 0.53190485</td><td> 0.4167211</td><td>1.636288</td><td>14.54507</td><td>10.621748</td><td>131.39400</td><td>0</td></tr>\n",
       "</tbody>\n",
       "</table>\n"
      ],
      "text/latex": [
       "A tibble: 6 × 9\n",
       "\\begin{tabular}{lllllllll}\n",
       " Mean\\_IP & Std\\_IP & Excess\\_kurtosis\\_IP & Skewness\\_IP & Mean\\_DM\\_SNR & Std\\_DM\\_SNR & Excess\\_kurtosis\\_DM\\_SNR & Skewness\\_DM\\_SNR & Class\\\\\n",
       " <dbl> & <dbl> & <dbl> & <dbl> & <dbl> & <dbl> & <dbl> & <dbl> & <dbl>\\\\\n",
       "\\hline\n",
       "\t 140.56250 & 55.68378 & -0.23457141 & -0.6996484 & 3.199833 & 19.11043 &  7.975532 &  74.24222 & 0\\\\\n",
       "\t 102.50781 & 58.88243 &  0.46531815 & -0.5150879 & 1.677258 & 14.86015 & 10.576487 & 127.39358 & 0\\\\\n",
       "\t 103.01562 & 39.34165 &  0.32332837 &  1.0511644 & 3.121237 & 21.74467 &  7.735822 &  63.17191 & 0\\\\\n",
       "\t 136.75000 & 57.17845 & -0.06841464 & -0.6362384 & 3.642977 & 20.95928 &  6.896499 &  53.59366 & 0\\\\\n",
       "\t  88.72656 & 40.67223 &  0.60086608 &  1.1234917 & 1.178930 & 11.46872 & 14.269573 & 252.56731 & 0\\\\\n",
       "\t  93.57031 & 46.69811 &  0.53190485 &  0.4167211 & 1.636288 & 14.54507 & 10.621748 & 131.39400 & 0\\\\\n",
       "\\end{tabular}\n"
      ],
      "text/markdown": [
       "\n",
       "A tibble: 6 × 9\n",
       "\n",
       "| Mean_IP &lt;dbl&gt; | Std_IP &lt;dbl&gt; | Excess_kurtosis_IP &lt;dbl&gt; | Skewness_IP &lt;dbl&gt; | Mean_DM_SNR &lt;dbl&gt; | Std_DM_SNR &lt;dbl&gt; | Excess_kurtosis_DM_SNR &lt;dbl&gt; | Skewness_DM_SNR &lt;dbl&gt; | Class &lt;dbl&gt; |\n",
       "|---|---|---|---|---|---|---|---|---|\n",
       "| 140.56250 | 55.68378 | -0.23457141 | -0.6996484 | 3.199833 | 19.11043 |  7.975532 |  74.24222 | 0 |\n",
       "| 102.50781 | 58.88243 |  0.46531815 | -0.5150879 | 1.677258 | 14.86015 | 10.576487 | 127.39358 | 0 |\n",
       "| 103.01562 | 39.34165 |  0.32332837 |  1.0511644 | 3.121237 | 21.74467 |  7.735822 |  63.17191 | 0 |\n",
       "| 136.75000 | 57.17845 | -0.06841464 | -0.6362384 | 3.642977 | 20.95928 |  6.896499 |  53.59366 | 0 |\n",
       "|  88.72656 | 40.67223 |  0.60086608 |  1.1234917 | 1.178930 | 11.46872 | 14.269573 | 252.56731 | 0 |\n",
       "|  93.57031 | 46.69811 |  0.53190485 |  0.4167211 | 1.636288 | 14.54507 | 10.621748 | 131.39400 | 0 |\n",
       "\n"
      ],
      "text/plain": [
       "  Mean_IP   Std_IP   Excess_kurtosis_IP Skewness_IP Mean_DM_SNR Std_DM_SNR\n",
       "1 140.56250 55.68378 -0.23457141        -0.6996484  3.199833    19.11043  \n",
       "2 102.50781 58.88243  0.46531815        -0.5150879  1.677258    14.86015  \n",
       "3 103.01562 39.34165  0.32332837         1.0511644  3.121237    21.74467  \n",
       "4 136.75000 57.17845 -0.06841464        -0.6362384  3.642977    20.95928  \n",
       "5  88.72656 40.67223  0.60086608         1.1234917  1.178930    11.46872  \n",
       "6  93.57031 46.69811  0.53190485         0.4167211  1.636288    14.54507  \n",
       "  Excess_kurtosis_DM_SNR Skewness_DM_SNR Class\n",
       "1  7.975532               74.24222       0    \n",
       "2 10.576487              127.39358       0    \n",
       "3  7.735822               63.17191       0    \n",
       "4  6.896499               53.59366       0    \n",
       "5 14.269573              252.56731       0    \n",
       "6 10.621748              131.39400       0    "
      ]
     },
     "metadata": {},
     "output_type": "display_data"
    }
   ],
   "source": [
    "# read the dataset\n",
    "htru2 <- read_csv(\"HTRU_2.csv\", col_names = FALSE)\n",
    "\n",
    "# add column names\n",
    "colnames(htru2) <- c(\"Mean_IP\", \"Std_IP\", \"Excess_kurtosis_IP\", \"Skewness_IP\",\n",
    "                     \"Mean_DM_SNR\", \"Std_DM_SNR\", \"Excess_kurtosis_DM_SNR\", \"Skewness_DM_SNR\", \"Class\")\n",
    "\n",
    "head(htru2)"
   ]
  },
  {
   "cell_type": "code",
   "execution_count": null,
   "id": "122404e0-b0ca-4314-ac5a-aa31b26ab830",
   "metadata": {},
   "outputs": [],
   "source": []
  }
 ],
 "metadata": {
  "kernelspec": {
   "display_name": "R",
   "language": "R",
   "name": "ir"
  },
  "language_info": {
   "codemirror_mode": "r",
   "file_extension": ".r",
   "mimetype": "text/x-r-source",
   "name": "R",
   "pygments_lexer": "r",
   "version": "4.1.3"
  }
 },
 "nbformat": 4,
 "nbformat_minor": 5
}
